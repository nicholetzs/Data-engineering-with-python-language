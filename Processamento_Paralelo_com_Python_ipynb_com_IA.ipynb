{
  "nbformat": 4,
  "nbformat_minor": 0,
  "metadata": {
    "colab": {
      "provenance": [],
      "include_colab_link": true
    },
    "kernelspec": {
      "name": "python3",
      "display_name": "Python 3"
    }
  },
  "cells": [
    {
      "cell_type": "markdown",
      "metadata": {
        "id": "view-in-github",
        "colab_type": "text"
      },
      "source": [
        "<a href=\"https://colab.research.google.com/github/nicholetzs/Data-engineering-with-python-language/blob/main/Processamento_Paralelo_com_Python_ipynb_com_IA.ipynb\" target=\"_parent\"><img src=\"https://colab.research.google.com/assets/colab-badge.svg\" alt=\"Open In Colab\"/></a>"
      ]
    },
    {
      "cell_type": "markdown",
      "metadata": {
        "id": "WUjSepFg5FNW"
      },
      "source": [
        "\n",
        "LINK DO MEU GITHUB COM A IA: https://github.com/nicholetzs/python-little-IA/blob/master/inicial.ipynb\n",
        "\n",
        "USE PARA FAZER COMPARAÇÃO!\n",
        "Também tem os arquivos .csv que eu usei.\n",
        "Abaixo é a IA usando paralelismo.\n",
        "\n",
        "\n",
        "\n"
      ]
    },
    {
      "cell_type": "code",
      "source": [
        "import pandas as pd\n",
        "from sklearn.preprocessing import LabelEncoder\n",
        "from sklearn.model_selection import train_test_split\n",
        "from sklearn.ensemble import RandomForestClassifier\n",
        "from sklearn.neighbors import KNeighborsClassifier\n",
        "from sklearn.metrics import accuracy_score\n",
        "from joblib import Parallel, delayed"
      ],
      "metadata": {
        "id": "wv_mYIpeTCa2"
      },
      "execution_count": null,
      "outputs": []
    },
    {
      "cell_type": "code",
      "source": [
        "tabela = pd.read_csv(\"clientes.csv\")"
      ],
      "metadata": {
        "id": "UGafqqo_TGht"
      },
      "execution_count": null,
      "outputs": []
    },
    {
      "cell_type": "code",
      "source": [
        "# Passo 2 - Preparar a base de dados para a IA\n",
        "codificador = LabelEncoder()\n",
        "tabela[\"profissao\"] = codificador.fit_transform(tabela[\"profissao\"])\n",
        "tabela[\"mix_credito\"] = codificador.fit_transform(tabela[\"mix_credito\"])\n",
        "tabela[\"comportamento_pagamento\"] = codificador.fit_transform(tabela[\"comportamento_pagamento\"])"
      ],
      "metadata": {
        "id": "VFM3mUmFTGn2"
      },
      "execution_count": null,
      "outputs": []
    },
    {
      "cell_type": "code",
      "source": [
        "# Passo 3 - Criar um modelo de IA -> Score crédito RUIM MÉDIO BOM\n",
        "y = tabela[\"score_credito\"]\n",
        "x = tabela.drop(columns=[\"score_credito\", \"id_cliente\"])"
      ],
      "metadata": {
        "id": "BouF_QjvTGus"
      },
      "execution_count": null,
      "outputs": []
    },
    {
      "cell_type": "code",
      "source": [
        "# Passo 4 - Escolher o melhor modelo\n",
        "# Passo 5 - Usar a IA para fazer novas previsões\n",
        "\n",
        "# Dividir os dados em treino e teste\n",
        "x_treino, x_teste, y_treino, y_teste = train_test_split(x, y)\n",
        "\n",
        "# Definir os modelos\n",
        "modelo_arvoredecisao = RandomForestClassifier()\n",
        "modelo_knn = KNeighborsClassifier()"
      ],
      "metadata": {
        "id": "3tp63PFlTG0t"
      },
      "execution_count": null,
      "outputs": []
    },
    {
      "cell_type": "code",
      "source": [
        "# Função para treinar um modelo\n",
        "def treinar_modelo(modelo, x_treino, y_treino, x_teste):\n",
        "    modelo.fit(x_treino, y_treino)\n",
        "    previsoes = modelo.predict(x_teste)\n",
        "    return previsoes\n",
        "\n",
        "# Treinar os modelos em paralelo\n",
        "resultados = Parallel(n_jobs=-1)(delayed(treinar_modelo)(modelo, x_treino, y_treino, x_teste) for modelo in [modelo_arvoredecisao, modelo_knn])\n",
        "\n",
        "# Avaliar os resultados\n",
        "previsoes_arvoredecisao = resultados[0]\n",
        "previsoes_knn = resultados[1]\n",
        "\n",
        "print(\"Acurácia RandomForestClassifier:\", accuracy_score(y_teste, previsoes_arvoredecisao))\n",
        "print(\"Acurácia KNeighborsClassifier:\", accuracy_score(y_teste, previsoes_knn))\n",
        "\n",
        "# Passo 6 - Aplicar ao caso real (novas previsões)\n",
        "# Supondo que você já tenha carregado e codificado os novos clientes em \"tabela_novos_clientes\"\n",
        "# e já tenha definido os modelos anteriormente, você pode fazer previsões da seguinte forma:\n",
        "\n",
        "# Prever para novos clientes usando o modelo RandomForestClassifier\n",
        "previsoes_novos_clientes_rf = modelo_arvoredecisao.predict(tabela_novos_clientes.drop(columns=[\"id_cliente\"]))\n",
        "\n",
        "# Prever para novos clientes usando o modelo KNeighborsClassifier\n",
        "previsoes_novos_clientes_knn = modelo_knn.predict(tabela_novos_clientes.drop(columns=[\"id_cliente\"]))\n",
        "\n",
        "# Exibir previsões para novos clientes\n",
        "print(\"Previsões RandomForestClassifier para novos clientes:\")\n",
        "print(previsoes_novos_clientes_rf)\n",
        "\n",
        "print(\"Previsões KNeighborsClassifier para novos clientes:\")\n",
        "print(previsoes_novos_clientes_knn)"
      ],
      "metadata": {
        "id": "3glGAvMUTSU-"
      },
      "execution_count": null,
      "outputs": []
    }
  ]
}
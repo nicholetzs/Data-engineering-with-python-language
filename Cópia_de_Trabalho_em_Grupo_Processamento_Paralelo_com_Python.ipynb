{
  "nbformat": 4,
  "nbformat_minor": 0,
  "metadata": {
    "colab": {
      "provenance": [],
      "include_colab_link": true
    },
    "kernelspec": {
      "name": "python3",
      "display_name": "Python 3"
    }
  },
  "cells": [
    {
      "cell_type": "markdown",
      "metadata": {
        "id": "view-in-github",
        "colab_type": "text"
      },
      "source": [
        "<a href=\"https://colab.research.google.com/github/nicholetzs/Data-engineering-with-python-language/blob/main/C%C3%B3pia_de_Trabalho_em_Grupo_Processamento_Paralelo_com_Python.ipynb\" target=\"_parent\"><img src=\"https://colab.research.google.com/assets/colab-badge.svg\" alt=\"Open In Colab\"/></a>"
      ]
    },
    {
      "cell_type": "markdown",
      "metadata": {
        "id": "WUjSepFg5FNW"
      },
      "source": [
        "##  Bibliotecas\n",
        "https://docs.python.org/3/library/multiprocessing.html\n",
        "\n",
        "https://acervolima.com/multiprocessamento-em-python-conjunto-1-introducao/\n",
        "\n",
        "\n",
        "*   Rodar o Script\n",
        "*   Tomar nota do tempo execução serial comparado ao paralelo\n",
        "\n"
      ]
    },
    {
      "cell_type": "markdown",
      "source": [
        "# Membros do Grupo\n",
        "\n",
        "\n",
        "\n",
        "*   Aluno 1\n",
        "*   Aluno 2\n",
        "*   Aluno 3\n",
        "* ...\n",
        "\n"
      ],
      "metadata": {
        "id": "ofwwlTZUzzU2"
      }
    },
    {
      "cell_type": "code",
      "source": [
        "print('hello world')"
      ],
      "metadata": {
        "colab": {
          "base_uri": "https://localhost:8080/"
        },
        "id": "r30IyXR7TUzi",
        "outputId": "40de08bf-c5ac-4e68-9bfa-f9249599db70"
      },
      "execution_count": null,
      "outputs": [
        {
          "output_type": "stream",
          "name": "stdout",
          "text": [
            "hello world\n"
          ]
        }
      ]
    },
    {
      "cell_type": "code",
      "metadata": {
        "id": "aWQWZpUa5EyO"
      },
      "source": [
        "import requests\n",
        "import json\n",
        "import pandas as pd\n",
        "from tqdm import tqdm\n",
        "from time import sleep, time\n",
        "from multiprocessing.pool import ThreadPool\n",
        "import seaborn as sns\n",
        "import matplotlib.pyplot as plt"
      ],
      "execution_count": null,
      "outputs": []
    },
    {
      "cell_type": "markdown",
      "metadata": {
        "id": "EkiHCsw45fvI"
      },
      "source": [
        "# Requisição API"
      ]
    },
    {
      "cell_type": "code",
      "metadata": {
        "id": "Vr14JfyW5lTo"
      },
      "source": [
        "# Requisição dos dados dos Deputados\n",
        "url        = 'https://dadosabertos.camara.leg.br/api/v2/deputados'\n",
        "parametros = {}\n",
        "resposta   = requests.request(\"GET\", url, params=parametros)\n",
        "objetos    = json.loads(resposta.text)\n",
        "dados      = objetos['dados']"
      ],
      "execution_count": null,
      "outputs": []
    },
    {
      "cell_type": "code",
      "source": [
        "dados[0]"
      ],
      "metadata": {
        "id": "iFz3n2BCjZUJ",
        "colab": {
          "base_uri": "https://localhost:8080/"
        },
        "outputId": "5f2553a5-e094-4cf8-85c6-043ab029483a"
      },
      "execution_count": null,
      "outputs": [
        {
          "output_type": "execute_result",
          "data": {
            "text/plain": [
              "{'id': 220593,\n",
              " 'uri': 'https://dadosabertos.camara.leg.br/api/v2/deputados/220593',\n",
              " 'nome': 'Abilio Brunini',\n",
              " 'siglaPartido': 'PL',\n",
              " 'uriPartido': 'https://dadosabertos.camara.leg.br/api/v2/partidos/37906',\n",
              " 'siglaUf': 'MT',\n",
              " 'idLegislatura': 57,\n",
              " 'urlFoto': 'https://www.camara.leg.br/internet/deputado/bandep/220593.jpg',\n",
              " 'email': 'dep.abiliobrunini@camara.leg.br'}"
            ]
          },
          "metadata": {},
          "execution_count": 4
        }
      ]
    },
    {
      "cell_type": "code",
      "metadata": {
        "colab": {
          "base_uri": "https://localhost:8080/"
        },
        "id": "QgY6aErT7ePD",
        "outputId": "c2a0879d-1ecb-49cf-c537-4681bb2f1e97"
      },
      "source": [
        "len(dados)"
      ],
      "execution_count": null,
      "outputs": [
        {
          "output_type": "execute_result",
          "data": {
            "text/plain": [
              "512"
            ]
          },
          "metadata": {},
          "execution_count": 5
        }
      ]
    },
    {
      "cell_type": "code",
      "metadata": {
        "colab": {
          "base_uri": "https://localhost:8080/"
        },
        "id": "c5KBDY3W6GJv",
        "outputId": "dd57e867-0983-4df2-b515-5c5b2767d605"
      },
      "source": [
        "dados[-1]"
      ],
      "execution_count": null,
      "outputs": [
        {
          "output_type": "execute_result",
          "data": {
            "text/plain": [
              "{'id': 220552,\n",
              " 'uri': 'https://dadosabertos.camara.leg.br/api/v2/deputados/220552',\n",
              " 'nome': 'Zucco',\n",
              " 'siglaPartido': 'PL',\n",
              " 'uriPartido': 'https://dadosabertos.camara.leg.br/api/v2/partidos/37906',\n",
              " 'siglaUf': 'RS',\n",
              " 'idLegislatura': 57,\n",
              " 'urlFoto': 'https://www.camara.leg.br/internet/deputado/bandep/220552.jpg',\n",
              " 'email': 'dep.zucco@camara.leg.br'}"
            ]
          },
          "metadata": {},
          "execution_count": 6
        }
      ]
    },
    {
      "cell_type": "code",
      "metadata": {
        "id": "rRreweGJ957H"
      },
      "source": [
        "# Selecionando todos os id dos deputados\n",
        "id = []\n",
        "for i in range(len(dados)):\n",
        "    id.append(str(dados[i]['id']))"
      ],
      "execution_count": null,
      "outputs": []
    },
    {
      "cell_type": "code",
      "metadata": {
        "colab": {
          "base_uri": "https://localhost:8080/"
        },
        "id": "3D7FXLnZ-NWt",
        "outputId": "3a6d49c9-3e85-4bd5-f8e1-bc726a009eef"
      },
      "source": [
        "id[15:21]"
      ],
      "execution_count": null,
      "outputs": [
        {
          "output_type": "execute_result",
          "data": {
            "text/plain": [
              "['220538', '160559', '204501', '178972', '204571', '220542']"
            ]
          },
          "metadata": {},
          "execution_count": 8
        }
      ]
    },
    {
      "cell_type": "markdown",
      "metadata": {
        "id": "IDonRfqJMBzx"
      },
      "source": [
        "## Processamento individual por id\n",
        "\n"
      ]
    },
    {
      "cell_type": "code",
      "metadata": {
        "id": "5tJfWwXU-Nay"
      },
      "source": [
        "# Requisição dos dados detalhes dos Deputados\n",
        "def detalhe_deputado(id):\n",
        "  url        = 'https://dadosabertos.camara.leg.br/api/v2/deputados/' + id\n",
        "  parametros = {}\n",
        "  resposta   = requests.request(\"GET\", url, params=parametros)\n",
        "  objetos    = json.loads(resposta.text)\n",
        "  dados      = objetos['dados']\n",
        "  return dados"
      ],
      "execution_count": null,
      "outputs": []
    },
    {
      "cell_type": "code",
      "metadata": {
        "colab": {
          "base_uri": "https://localhost:8080/"
        },
        "id": "2zXYjRmdLySO",
        "outputId": "962f2f49-4ab4-42eb-c95b-66089baee8ac"
      },
      "source": [
        "detalhe_deputado('204495')"
      ],
      "execution_count": null,
      "outputs": [
        {
          "output_type": "execute_result",
          "data": {
            "text/plain": [
              "{'id': 204495,\n",
              " 'uri': 'https://dadosabertos.camara.leg.br/api/v2/deputados/204495',\n",
              " 'nomeCivil': 'AIRTON LUIZ FALEIRO',\n",
              " 'ultimoStatus': {'id': 204495,\n",
              "  'uri': 'https://dadosabertos.camara.leg.br/api/v2/deputados/204495',\n",
              "  'nome': 'Airton Faleiro',\n",
              "  'siglaPartido': 'PT',\n",
              "  'uriPartido': 'https://dadosabertos.camara.leg.br/api/v2/partidos/36844',\n",
              "  'siglaUf': 'PA',\n",
              "  'idLegislatura': 57,\n",
              "  'urlFoto': 'https://www.camara.leg.br/internet/deputado/bandep/204495.jpg',\n",
              "  'email': 'dep.airtonfaleiro@camara.leg.br',\n",
              "  'data': '2023-02-01T12:05',\n",
              "  'nomeEleitoral': 'Airton Faleiro',\n",
              "  'gabinete': {'nome': '327',\n",
              "   'predio': '4',\n",
              "   'sala': '327',\n",
              "   'andar': '3',\n",
              "   'telefone': '3215-5327',\n",
              "   'email': 'dep.airtonfaleiro@camara.leg.br'},\n",
              "  'situacao': 'Exercício',\n",
              "  'condicaoEleitoral': 'Titular',\n",
              "  'descricaoStatus': None},\n",
              " 'cpf': '18836178200',\n",
              " 'sexo': 'M',\n",
              " 'urlWebsite': None,\n",
              " 'redeSocial': [],\n",
              " 'dataNascimento': '1959-03-16',\n",
              " 'dataFalecimento': None,\n",
              " 'ufNascimento': 'RS',\n",
              " 'municipioNascimento': 'Tenente Portela',\n",
              " 'escolaridade': 'Ensino Fundamental'}"
            ]
          },
          "metadata": {},
          "execution_count": 10
        }
      ]
    },
    {
      "cell_type": "code",
      "metadata": {
        "colab": {
          "base_uri": "https://localhost:8080/"
        },
        "id": "EkbG_Z05LyOn",
        "outputId": "76d52546-848a-4742-f715-dfbb34ea703e"
      },
      "source": [
        "inicio_processo = time()\n",
        "deputado = detalhe_deputado('204495')\n",
        "fim_processo = time()\n",
        "processamento_individual = fim_processo - inicio_processo\n",
        "print('Processamento individual por id:', round( (processamento_individual), 2 ), 'segundos')"
      ],
      "execution_count": null,
      "outputs": [
        {
          "output_type": "stream",
          "name": "stdout",
          "text": [
            "Processamento individual por id: 0.6 segundos\n"
          ]
        }
      ]
    },
    {
      "cell_type": "code",
      "source": [
        "(512 * 1.03)/60"
      ],
      "metadata": {
        "id": "YxjYRHU2z3At",
        "colab": {
          "base_uri": "https://localhost:8080/"
        },
        "outputId": "e128287f-7d1a-49e8-ec03-46652a351ee0"
      },
      "execution_count": null,
      "outputs": [
        {
          "output_type": "execute_result",
          "data": {
            "text/plain": [
              "8.789333333333333"
            ]
          },
          "metadata": {},
          "execution_count": 12
        }
      ]
    },
    {
      "cell_type": "code",
      "metadata": {
        "id": "dVzxzTANLyLl",
        "colab": {
          "base_uri": "https://localhost:8080/"
        },
        "outputId": "faa861ea-afaf-45be-e8a1-28c91a65ba29"
      },
      "source": [
        "ids = id[:]\n",
        "len(ids)\n"
      ],
      "execution_count": null,
      "outputs": [
        {
          "output_type": "execute_result",
          "data": {
            "text/plain": [
              "512"
            ]
          },
          "metadata": {},
          "execution_count": 13
        }
      ]
    },
    {
      "cell_type": "markdown",
      "source": [
        "# Execução Serial da Função detalha_deputado"
      ],
      "metadata": {
        "id": "1u3uKKcVkpiu"
      }
    },
    {
      "cell_type": "code",
      "metadata": {
        "colab": {
          "base_uri": "https://localhost:8080/",
          "height": 373
        },
        "id": "NZE6qyVjLyCP",
        "outputId": "aa03d701-bc01-4908-d686-9e6d2e77ed01"
      },
      "source": [
        "inicio_processo = time()\n",
        "lista_api = []\n",
        "for i in tqdm(ids):\n",
        "  resultado_individual = detalhe_deputado(i)\n",
        "  lista_api.append(resultado_individual)\n",
        "fim_processo = time()\n",
        "processamento_sequencial = fim_processo - inicio_processo\n",
        "print('\\nProcessamento sequencial por id:', round( (processamento_sequencial), 2 )/len(ids), 'segundos / id')"
      ],
      "execution_count": null,
      "outputs": [
        {
          "output_type": "stream",
          "name": "stderr",
          "text": [
            " 12%|█▏        | 62/512 [00:40<04:51,  1.54it/s]\n"
          ]
        },
        {
          "output_type": "error",
          "ename": "KeyboardInterrupt",
          "evalue": "",
          "traceback": [
            "\u001b[0;31m---------------------------------------------------------------------------\u001b[0m",
            "\u001b[0;31mKeyboardInterrupt\u001b[0m                         Traceback (most recent call last)",
            "\u001b[0;32m<ipython-input-14-56d41c83dc71>\u001b[0m in \u001b[0;36m<cell line: 3>\u001b[0;34m()\u001b[0m\n\u001b[1;32m      2\u001b[0m \u001b[0mlista_api\u001b[0m \u001b[0;34m=\u001b[0m \u001b[0;34m[\u001b[0m\u001b[0;34m]\u001b[0m\u001b[0;34m\u001b[0m\u001b[0;34m\u001b[0m\u001b[0m\n\u001b[1;32m      3\u001b[0m \u001b[0;32mfor\u001b[0m \u001b[0mi\u001b[0m \u001b[0;32min\u001b[0m \u001b[0mtqdm\u001b[0m\u001b[0;34m(\u001b[0m\u001b[0mids\u001b[0m\u001b[0;34m)\u001b[0m\u001b[0;34m:\u001b[0m\u001b[0;34m\u001b[0m\u001b[0;34m\u001b[0m\u001b[0m\n\u001b[0;32m----> 4\u001b[0;31m   \u001b[0mresultado_individual\u001b[0m \u001b[0;34m=\u001b[0m \u001b[0mdetalhe_deputado\u001b[0m\u001b[0;34m(\u001b[0m\u001b[0mi\u001b[0m\u001b[0;34m)\u001b[0m\u001b[0;34m\u001b[0m\u001b[0;34m\u001b[0m\u001b[0m\n\u001b[0m\u001b[1;32m      5\u001b[0m   \u001b[0mlista_api\u001b[0m\u001b[0;34m.\u001b[0m\u001b[0mappend\u001b[0m\u001b[0;34m(\u001b[0m\u001b[0mresultado_individual\u001b[0m\u001b[0;34m)\u001b[0m\u001b[0;34m\u001b[0m\u001b[0;34m\u001b[0m\u001b[0m\n\u001b[1;32m      6\u001b[0m \u001b[0mfim_processo\u001b[0m \u001b[0;34m=\u001b[0m \u001b[0mtime\u001b[0m\u001b[0;34m(\u001b[0m\u001b[0;34m)\u001b[0m\u001b[0;34m\u001b[0m\u001b[0;34m\u001b[0m\u001b[0m\n",
            "\u001b[0;32m<ipython-input-9-46aa6a97b445>\u001b[0m in \u001b[0;36mdetalhe_deputado\u001b[0;34m(id)\u001b[0m\n\u001b[1;32m      3\u001b[0m   \u001b[0murl\u001b[0m        \u001b[0;34m=\u001b[0m \u001b[0;34m'https://dadosabertos.camara.leg.br/api/v2/deputados/'\u001b[0m \u001b[0;34m+\u001b[0m \u001b[0mid\u001b[0m\u001b[0;34m\u001b[0m\u001b[0;34m\u001b[0m\u001b[0m\n\u001b[1;32m      4\u001b[0m   \u001b[0mparametros\u001b[0m \u001b[0;34m=\u001b[0m \u001b[0;34m{\u001b[0m\u001b[0;34m}\u001b[0m\u001b[0;34m\u001b[0m\u001b[0;34m\u001b[0m\u001b[0m\n\u001b[0;32m----> 5\u001b[0;31m   \u001b[0mresposta\u001b[0m   \u001b[0;34m=\u001b[0m \u001b[0mrequests\u001b[0m\u001b[0;34m.\u001b[0m\u001b[0mrequest\u001b[0m\u001b[0;34m(\u001b[0m\u001b[0;34m\"GET\"\u001b[0m\u001b[0;34m,\u001b[0m \u001b[0murl\u001b[0m\u001b[0;34m,\u001b[0m \u001b[0mparams\u001b[0m\u001b[0;34m=\u001b[0m\u001b[0mparametros\u001b[0m\u001b[0;34m)\u001b[0m\u001b[0;34m\u001b[0m\u001b[0;34m\u001b[0m\u001b[0m\n\u001b[0m\u001b[1;32m      6\u001b[0m   \u001b[0mobjetos\u001b[0m    \u001b[0;34m=\u001b[0m \u001b[0mjson\u001b[0m\u001b[0;34m.\u001b[0m\u001b[0mloads\u001b[0m\u001b[0;34m(\u001b[0m\u001b[0mresposta\u001b[0m\u001b[0;34m.\u001b[0m\u001b[0mtext\u001b[0m\u001b[0;34m)\u001b[0m\u001b[0;34m\u001b[0m\u001b[0;34m\u001b[0m\u001b[0m\n\u001b[1;32m      7\u001b[0m   \u001b[0mdados\u001b[0m      \u001b[0;34m=\u001b[0m \u001b[0mobjetos\u001b[0m\u001b[0;34m[\u001b[0m\u001b[0;34m'dados'\u001b[0m\u001b[0;34m]\u001b[0m\u001b[0;34m\u001b[0m\u001b[0;34m\u001b[0m\u001b[0m\n",
            "\u001b[0;32m/usr/local/lib/python3.10/dist-packages/requests/api.py\u001b[0m in \u001b[0;36mrequest\u001b[0;34m(method, url, **kwargs)\u001b[0m\n\u001b[1;32m     57\u001b[0m     \u001b[0;31m# cases, and look like a memory leak in others.\u001b[0m\u001b[0;34m\u001b[0m\u001b[0;34m\u001b[0m\u001b[0m\n\u001b[1;32m     58\u001b[0m     \u001b[0;32mwith\u001b[0m \u001b[0msessions\u001b[0m\u001b[0;34m.\u001b[0m\u001b[0mSession\u001b[0m\u001b[0;34m(\u001b[0m\u001b[0;34m)\u001b[0m \u001b[0;32mas\u001b[0m \u001b[0msession\u001b[0m\u001b[0;34m:\u001b[0m\u001b[0;34m\u001b[0m\u001b[0;34m\u001b[0m\u001b[0m\n\u001b[0;32m---> 59\u001b[0;31m         \u001b[0;32mreturn\u001b[0m \u001b[0msession\u001b[0m\u001b[0;34m.\u001b[0m\u001b[0mrequest\u001b[0m\u001b[0;34m(\u001b[0m\u001b[0mmethod\u001b[0m\u001b[0;34m=\u001b[0m\u001b[0mmethod\u001b[0m\u001b[0;34m,\u001b[0m \u001b[0murl\u001b[0m\u001b[0;34m=\u001b[0m\u001b[0murl\u001b[0m\u001b[0;34m,\u001b[0m \u001b[0;34m**\u001b[0m\u001b[0mkwargs\u001b[0m\u001b[0;34m)\u001b[0m\u001b[0;34m\u001b[0m\u001b[0;34m\u001b[0m\u001b[0m\n\u001b[0m\u001b[1;32m     60\u001b[0m \u001b[0;34m\u001b[0m\u001b[0m\n\u001b[1;32m     61\u001b[0m \u001b[0;34m\u001b[0m\u001b[0m\n",
            "\u001b[0;32m/usr/local/lib/python3.10/dist-packages/requests/sessions.py\u001b[0m in \u001b[0;36mrequest\u001b[0;34m(self, method, url, params, data, headers, cookies, files, auth, timeout, allow_redirects, proxies, hooks, stream, verify, cert, json)\u001b[0m\n\u001b[1;32m    587\u001b[0m         }\n\u001b[1;32m    588\u001b[0m         \u001b[0msend_kwargs\u001b[0m\u001b[0;34m.\u001b[0m\u001b[0mupdate\u001b[0m\u001b[0;34m(\u001b[0m\u001b[0msettings\u001b[0m\u001b[0;34m)\u001b[0m\u001b[0;34m\u001b[0m\u001b[0;34m\u001b[0m\u001b[0m\n\u001b[0;32m--> 589\u001b[0;31m         \u001b[0mresp\u001b[0m \u001b[0;34m=\u001b[0m \u001b[0mself\u001b[0m\u001b[0;34m.\u001b[0m\u001b[0msend\u001b[0m\u001b[0;34m(\u001b[0m\u001b[0mprep\u001b[0m\u001b[0;34m,\u001b[0m \u001b[0;34m**\u001b[0m\u001b[0msend_kwargs\u001b[0m\u001b[0;34m)\u001b[0m\u001b[0;34m\u001b[0m\u001b[0;34m\u001b[0m\u001b[0m\n\u001b[0m\u001b[1;32m    590\u001b[0m \u001b[0;34m\u001b[0m\u001b[0m\n\u001b[1;32m    591\u001b[0m         \u001b[0;32mreturn\u001b[0m \u001b[0mresp\u001b[0m\u001b[0;34m\u001b[0m\u001b[0;34m\u001b[0m\u001b[0m\n",
            "\u001b[0;32m/usr/local/lib/python3.10/dist-packages/requests/sessions.py\u001b[0m in \u001b[0;36msend\u001b[0;34m(self, request, **kwargs)\u001b[0m\n\u001b[1;32m    701\u001b[0m \u001b[0;34m\u001b[0m\u001b[0m\n\u001b[1;32m    702\u001b[0m         \u001b[0;31m# Send the request\u001b[0m\u001b[0;34m\u001b[0m\u001b[0;34m\u001b[0m\u001b[0m\n\u001b[0;32m--> 703\u001b[0;31m         \u001b[0mr\u001b[0m \u001b[0;34m=\u001b[0m \u001b[0madapter\u001b[0m\u001b[0;34m.\u001b[0m\u001b[0msend\u001b[0m\u001b[0;34m(\u001b[0m\u001b[0mrequest\u001b[0m\u001b[0;34m,\u001b[0m \u001b[0;34m**\u001b[0m\u001b[0mkwargs\u001b[0m\u001b[0;34m)\u001b[0m\u001b[0;34m\u001b[0m\u001b[0;34m\u001b[0m\u001b[0m\n\u001b[0m\u001b[1;32m    704\u001b[0m \u001b[0;34m\u001b[0m\u001b[0m\n\u001b[1;32m    705\u001b[0m         \u001b[0;31m# Total elapsed time of the request (approximately)\u001b[0m\u001b[0;34m\u001b[0m\u001b[0;34m\u001b[0m\u001b[0m\n",
            "\u001b[0;32m/usr/local/lib/python3.10/dist-packages/requests/adapters.py\u001b[0m in \u001b[0;36msend\u001b[0;34m(self, request, stream, timeout, verify, cert, proxies)\u001b[0m\n\u001b[1;32m    484\u001b[0m \u001b[0;34m\u001b[0m\u001b[0m\n\u001b[1;32m    485\u001b[0m         \u001b[0;32mtry\u001b[0m\u001b[0;34m:\u001b[0m\u001b[0;34m\u001b[0m\u001b[0;34m\u001b[0m\u001b[0m\n\u001b[0;32m--> 486\u001b[0;31m             resp = conn.urlopen(\n\u001b[0m\u001b[1;32m    487\u001b[0m                 \u001b[0mmethod\u001b[0m\u001b[0;34m=\u001b[0m\u001b[0mrequest\u001b[0m\u001b[0;34m.\u001b[0m\u001b[0mmethod\u001b[0m\u001b[0;34m,\u001b[0m\u001b[0;34m\u001b[0m\u001b[0;34m\u001b[0m\u001b[0m\n\u001b[1;32m    488\u001b[0m                 \u001b[0murl\u001b[0m\u001b[0;34m=\u001b[0m\u001b[0murl\u001b[0m\u001b[0;34m,\u001b[0m\u001b[0;34m\u001b[0m\u001b[0;34m\u001b[0m\u001b[0m\n",
            "\u001b[0;32m/usr/local/lib/python3.10/dist-packages/urllib3/connectionpool.py\u001b[0m in \u001b[0;36murlopen\u001b[0;34m(self, method, url, body, headers, retries, redirect, assert_same_host, timeout, pool_timeout, release_conn, chunked, body_pos, preload_content, decode_content, **response_kw)\u001b[0m\n\u001b[1;32m    789\u001b[0m \u001b[0;34m\u001b[0m\u001b[0m\n\u001b[1;32m    790\u001b[0m             \u001b[0;31m# Make the request on the HTTPConnection object\u001b[0m\u001b[0;34m\u001b[0m\u001b[0;34m\u001b[0m\u001b[0m\n\u001b[0;32m--> 791\u001b[0;31m             response = self._make_request(\n\u001b[0m\u001b[1;32m    792\u001b[0m                 \u001b[0mconn\u001b[0m\u001b[0;34m,\u001b[0m\u001b[0;34m\u001b[0m\u001b[0;34m\u001b[0m\u001b[0m\n\u001b[1;32m    793\u001b[0m                 \u001b[0mmethod\u001b[0m\u001b[0;34m,\u001b[0m\u001b[0;34m\u001b[0m\u001b[0;34m\u001b[0m\u001b[0m\n",
            "\u001b[0;32m/usr/local/lib/python3.10/dist-packages/urllib3/connectionpool.py\u001b[0m in \u001b[0;36m_make_request\u001b[0;34m(self, conn, method, url, body, headers, retries, timeout, chunked, response_conn, preload_content, decode_content, enforce_content_length)\u001b[0m\n\u001b[1;32m    466\u001b[0m             \u001b[0;31m# Trigger any extra validation we need to do.\u001b[0m\u001b[0;34m\u001b[0m\u001b[0;34m\u001b[0m\u001b[0m\n\u001b[1;32m    467\u001b[0m             \u001b[0;32mtry\u001b[0m\u001b[0;34m:\u001b[0m\u001b[0;34m\u001b[0m\u001b[0;34m\u001b[0m\u001b[0m\n\u001b[0;32m--> 468\u001b[0;31m                 \u001b[0mself\u001b[0m\u001b[0;34m.\u001b[0m\u001b[0m_validate_conn\u001b[0m\u001b[0;34m(\u001b[0m\u001b[0mconn\u001b[0m\u001b[0;34m)\u001b[0m\u001b[0;34m\u001b[0m\u001b[0;34m\u001b[0m\u001b[0m\n\u001b[0m\u001b[1;32m    469\u001b[0m             \u001b[0;32mexcept\u001b[0m \u001b[0;34m(\u001b[0m\u001b[0mSocketTimeout\u001b[0m\u001b[0;34m,\u001b[0m \u001b[0mBaseSSLError\u001b[0m\u001b[0;34m)\u001b[0m \u001b[0;32mas\u001b[0m \u001b[0me\u001b[0m\u001b[0;34m:\u001b[0m\u001b[0;34m\u001b[0m\u001b[0;34m\u001b[0m\u001b[0m\n\u001b[1;32m    470\u001b[0m                 \u001b[0mself\u001b[0m\u001b[0;34m.\u001b[0m\u001b[0m_raise_timeout\u001b[0m\u001b[0;34m(\u001b[0m\u001b[0merr\u001b[0m\u001b[0;34m=\u001b[0m\u001b[0me\u001b[0m\u001b[0;34m,\u001b[0m \u001b[0murl\u001b[0m\u001b[0;34m=\u001b[0m\u001b[0murl\u001b[0m\u001b[0;34m,\u001b[0m \u001b[0mtimeout_value\u001b[0m\u001b[0;34m=\u001b[0m\u001b[0mconn\u001b[0m\u001b[0;34m.\u001b[0m\u001b[0mtimeout\u001b[0m\u001b[0;34m)\u001b[0m\u001b[0;34m\u001b[0m\u001b[0;34m\u001b[0m\u001b[0m\n",
            "\u001b[0;32m/usr/local/lib/python3.10/dist-packages/urllib3/connectionpool.py\u001b[0m in \u001b[0;36m_validate_conn\u001b[0;34m(self, conn)\u001b[0m\n\u001b[1;32m   1095\u001b[0m         \u001b[0;31m# Force connect early to allow us to validate the connection.\u001b[0m\u001b[0;34m\u001b[0m\u001b[0;34m\u001b[0m\u001b[0m\n\u001b[1;32m   1096\u001b[0m         \u001b[0;32mif\u001b[0m \u001b[0mconn\u001b[0m\u001b[0;34m.\u001b[0m\u001b[0mis_closed\u001b[0m\u001b[0;34m:\u001b[0m\u001b[0;34m\u001b[0m\u001b[0;34m\u001b[0m\u001b[0m\n\u001b[0;32m-> 1097\u001b[0;31m             \u001b[0mconn\u001b[0m\u001b[0;34m.\u001b[0m\u001b[0mconnect\u001b[0m\u001b[0;34m(\u001b[0m\u001b[0;34m)\u001b[0m\u001b[0;34m\u001b[0m\u001b[0;34m\u001b[0m\u001b[0m\n\u001b[0m\u001b[1;32m   1098\u001b[0m \u001b[0;34m\u001b[0m\u001b[0m\n\u001b[1;32m   1099\u001b[0m         \u001b[0;32mif\u001b[0m \u001b[0;32mnot\u001b[0m \u001b[0mconn\u001b[0m\u001b[0;34m.\u001b[0m\u001b[0mis_verified\u001b[0m\u001b[0;34m:\u001b[0m\u001b[0;34m\u001b[0m\u001b[0;34m\u001b[0m\u001b[0m\n",
            "\u001b[0;32m/usr/local/lib/python3.10/dist-packages/urllib3/connection.py\u001b[0m in \u001b[0;36mconnect\u001b[0;34m(self)\u001b[0m\n\u001b[1;32m    640\u001b[0m             )\n\u001b[1;32m    641\u001b[0m \u001b[0;34m\u001b[0m\u001b[0m\n\u001b[0;32m--> 642\u001b[0;31m         sock_and_verified = _ssl_wrap_socket_and_match_hostname(\n\u001b[0m\u001b[1;32m    643\u001b[0m             \u001b[0msock\u001b[0m\u001b[0;34m=\u001b[0m\u001b[0msock\u001b[0m\u001b[0;34m,\u001b[0m\u001b[0;34m\u001b[0m\u001b[0;34m\u001b[0m\u001b[0m\n\u001b[1;32m    644\u001b[0m             \u001b[0mcert_reqs\u001b[0m\u001b[0;34m=\u001b[0m\u001b[0mself\u001b[0m\u001b[0;34m.\u001b[0m\u001b[0mcert_reqs\u001b[0m\u001b[0;34m,\u001b[0m\u001b[0;34m\u001b[0m\u001b[0;34m\u001b[0m\u001b[0m\n",
            "\u001b[0;32m/usr/local/lib/python3.10/dist-packages/urllib3/connection.py\u001b[0m in \u001b[0;36m_ssl_wrap_socket_and_match_hostname\u001b[0;34m(sock, cert_reqs, ssl_version, ssl_minimum_version, ssl_maximum_version, cert_file, key_file, key_password, ca_certs, ca_cert_dir, ca_cert_data, assert_hostname, assert_fingerprint, server_hostname, ssl_context, tls_in_tls)\u001b[0m\n\u001b[1;32m    781\u001b[0m             \u001b[0mserver_hostname\u001b[0m \u001b[0;34m=\u001b[0m \u001b[0mnormalized\u001b[0m\u001b[0;34m\u001b[0m\u001b[0;34m\u001b[0m\u001b[0m\n\u001b[1;32m    782\u001b[0m \u001b[0;34m\u001b[0m\u001b[0m\n\u001b[0;32m--> 783\u001b[0;31m     ssl_sock = ssl_wrap_socket(\n\u001b[0m\u001b[1;32m    784\u001b[0m         \u001b[0msock\u001b[0m\u001b[0;34m=\u001b[0m\u001b[0msock\u001b[0m\u001b[0;34m,\u001b[0m\u001b[0;34m\u001b[0m\u001b[0;34m\u001b[0m\u001b[0m\n\u001b[1;32m    785\u001b[0m         \u001b[0mkeyfile\u001b[0m\u001b[0;34m=\u001b[0m\u001b[0mkey_file\u001b[0m\u001b[0;34m,\u001b[0m\u001b[0;34m\u001b[0m\u001b[0;34m\u001b[0m\u001b[0m\n",
            "\u001b[0;32m/usr/local/lib/python3.10/dist-packages/urllib3/util/ssl_.py\u001b[0m in \u001b[0;36mssl_wrap_socket\u001b[0;34m(sock, keyfile, certfile, cert_reqs, ca_certs, server_hostname, ssl_version, ciphers, ssl_context, ca_cert_dir, key_password, ca_cert_data, tls_in_tls)\u001b[0m\n\u001b[1;32m    469\u001b[0m         \u001b[0;32mpass\u001b[0m\u001b[0;34m\u001b[0m\u001b[0;34m\u001b[0m\u001b[0m\n\u001b[1;32m    470\u001b[0m \u001b[0;34m\u001b[0m\u001b[0m\n\u001b[0;32m--> 471\u001b[0;31m     \u001b[0mssl_sock\u001b[0m \u001b[0;34m=\u001b[0m \u001b[0m_ssl_wrap_socket_impl\u001b[0m\u001b[0;34m(\u001b[0m\u001b[0msock\u001b[0m\u001b[0;34m,\u001b[0m \u001b[0mcontext\u001b[0m\u001b[0;34m,\u001b[0m \u001b[0mtls_in_tls\u001b[0m\u001b[0;34m,\u001b[0m \u001b[0mserver_hostname\u001b[0m\u001b[0;34m)\u001b[0m\u001b[0;34m\u001b[0m\u001b[0;34m\u001b[0m\u001b[0m\n\u001b[0m\u001b[1;32m    472\u001b[0m     \u001b[0;32mreturn\u001b[0m \u001b[0mssl_sock\u001b[0m\u001b[0;34m\u001b[0m\u001b[0;34m\u001b[0m\u001b[0m\n\u001b[1;32m    473\u001b[0m \u001b[0;34m\u001b[0m\u001b[0m\n",
            "\u001b[0;32m/usr/local/lib/python3.10/dist-packages/urllib3/util/ssl_.py\u001b[0m in \u001b[0;36m_ssl_wrap_socket_impl\u001b[0;34m(sock, ssl_context, tls_in_tls, server_hostname)\u001b[0m\n\u001b[1;32m    513\u001b[0m         \u001b[0;32mreturn\u001b[0m \u001b[0mSSLTransport\u001b[0m\u001b[0;34m(\u001b[0m\u001b[0msock\u001b[0m\u001b[0;34m,\u001b[0m \u001b[0mssl_context\u001b[0m\u001b[0;34m,\u001b[0m \u001b[0mserver_hostname\u001b[0m\u001b[0;34m)\u001b[0m\u001b[0;34m\u001b[0m\u001b[0;34m\u001b[0m\u001b[0m\n\u001b[1;32m    514\u001b[0m \u001b[0;34m\u001b[0m\u001b[0m\n\u001b[0;32m--> 515\u001b[0;31m     \u001b[0;32mreturn\u001b[0m \u001b[0mssl_context\u001b[0m\u001b[0;34m.\u001b[0m\u001b[0mwrap_socket\u001b[0m\u001b[0;34m(\u001b[0m\u001b[0msock\u001b[0m\u001b[0;34m,\u001b[0m \u001b[0mserver_hostname\u001b[0m\u001b[0;34m=\u001b[0m\u001b[0mserver_hostname\u001b[0m\u001b[0;34m)\u001b[0m\u001b[0;34m\u001b[0m\u001b[0;34m\u001b[0m\u001b[0m\n\u001b[0m",
            "\u001b[0;32m/usr/lib/python3.10/ssl.py\u001b[0m in \u001b[0;36mwrap_socket\u001b[0;34m(self, sock, server_side, do_handshake_on_connect, suppress_ragged_eofs, server_hostname, session)\u001b[0m\n\u001b[1;32m    511\u001b[0m         \u001b[0;31m# SSLSocket class handles server_hostname encoding before it calls\u001b[0m\u001b[0;34m\u001b[0m\u001b[0;34m\u001b[0m\u001b[0m\n\u001b[1;32m    512\u001b[0m         \u001b[0;31m# ctx._wrap_socket()\u001b[0m\u001b[0;34m\u001b[0m\u001b[0;34m\u001b[0m\u001b[0m\n\u001b[0;32m--> 513\u001b[0;31m         return self.sslsocket_class._create(\n\u001b[0m\u001b[1;32m    514\u001b[0m             \u001b[0msock\u001b[0m\u001b[0;34m=\u001b[0m\u001b[0msock\u001b[0m\u001b[0;34m,\u001b[0m\u001b[0;34m\u001b[0m\u001b[0;34m\u001b[0m\u001b[0m\n\u001b[1;32m    515\u001b[0m             \u001b[0mserver_side\u001b[0m\u001b[0;34m=\u001b[0m\u001b[0mserver_side\u001b[0m\u001b[0;34m,\u001b[0m\u001b[0;34m\u001b[0m\u001b[0;34m\u001b[0m\u001b[0m\n",
            "\u001b[0;32m/usr/lib/python3.10/ssl.py\u001b[0m in \u001b[0;36m_create\u001b[0;34m(cls, sock, server_side, do_handshake_on_connect, suppress_ragged_eofs, server_hostname, context, session)\u001b[0m\n\u001b[1;32m   1098\u001b[0m                         \u001b[0;31m# non-blocking\u001b[0m\u001b[0;34m\u001b[0m\u001b[0;34m\u001b[0m\u001b[0m\n\u001b[1;32m   1099\u001b[0m                         \u001b[0;32mraise\u001b[0m \u001b[0mValueError\u001b[0m\u001b[0;34m(\u001b[0m\u001b[0;34m\"do_handshake_on_connect should not be specified for non-blocking sockets\"\u001b[0m\u001b[0;34m)\u001b[0m\u001b[0;34m\u001b[0m\u001b[0;34m\u001b[0m\u001b[0m\n\u001b[0;32m-> 1100\u001b[0;31m                     \u001b[0mself\u001b[0m\u001b[0;34m.\u001b[0m\u001b[0mdo_handshake\u001b[0m\u001b[0;34m(\u001b[0m\u001b[0;34m)\u001b[0m\u001b[0;34m\u001b[0m\u001b[0;34m\u001b[0m\u001b[0m\n\u001b[0m\u001b[1;32m   1101\u001b[0m             \u001b[0;32mexcept\u001b[0m \u001b[0;34m(\u001b[0m\u001b[0mOSError\u001b[0m\u001b[0;34m,\u001b[0m \u001b[0mValueError\u001b[0m\u001b[0;34m)\u001b[0m\u001b[0;34m:\u001b[0m\u001b[0;34m\u001b[0m\u001b[0;34m\u001b[0m\u001b[0m\n\u001b[1;32m   1102\u001b[0m                 \u001b[0mself\u001b[0m\u001b[0;34m.\u001b[0m\u001b[0mclose\u001b[0m\u001b[0;34m(\u001b[0m\u001b[0;34m)\u001b[0m\u001b[0;34m\u001b[0m\u001b[0;34m\u001b[0m\u001b[0m\n",
            "\u001b[0;32m/usr/lib/python3.10/ssl.py\u001b[0m in \u001b[0;36mdo_handshake\u001b[0;34m(self, block)\u001b[0m\n\u001b[1;32m   1369\u001b[0m             \u001b[0;32mif\u001b[0m \u001b[0mtimeout\u001b[0m \u001b[0;34m==\u001b[0m \u001b[0;36m0.0\u001b[0m \u001b[0;32mand\u001b[0m \u001b[0mblock\u001b[0m\u001b[0;34m:\u001b[0m\u001b[0;34m\u001b[0m\u001b[0;34m\u001b[0m\u001b[0m\n\u001b[1;32m   1370\u001b[0m                 \u001b[0mself\u001b[0m\u001b[0;34m.\u001b[0m\u001b[0msettimeout\u001b[0m\u001b[0;34m(\u001b[0m\u001b[0;32mNone\u001b[0m\u001b[0;34m)\u001b[0m\u001b[0;34m\u001b[0m\u001b[0;34m\u001b[0m\u001b[0m\n\u001b[0;32m-> 1371\u001b[0;31m             \u001b[0mself\u001b[0m\u001b[0;34m.\u001b[0m\u001b[0m_sslobj\u001b[0m\u001b[0;34m.\u001b[0m\u001b[0mdo_handshake\u001b[0m\u001b[0;34m(\u001b[0m\u001b[0;34m)\u001b[0m\u001b[0;34m\u001b[0m\u001b[0;34m\u001b[0m\u001b[0m\n\u001b[0m\u001b[1;32m   1372\u001b[0m         \u001b[0;32mfinally\u001b[0m\u001b[0;34m:\u001b[0m\u001b[0;34m\u001b[0m\u001b[0;34m\u001b[0m\u001b[0m\n\u001b[1;32m   1373\u001b[0m             \u001b[0mself\u001b[0m\u001b[0;34m.\u001b[0m\u001b[0msettimeout\u001b[0m\u001b[0;34m(\u001b[0m\u001b[0mtimeout\u001b[0m\u001b[0;34m)\u001b[0m\u001b[0;34m\u001b[0m\u001b[0;34m\u001b[0m\u001b[0m\n",
            "\u001b[0;31mKeyboardInterrupt\u001b[0m: "
          ]
        }
      ]
    },
    {
      "cell_type": "code",
      "source": [
        "(514 * 1.0275)/60"
      ],
      "metadata": {
        "id": "nl8XbAZZVMvS",
        "colab": {
          "base_uri": "https://localhost:8080/"
        },
        "outputId": "6373d5b0-3ab9-454e-f2ab-a87d22fa2d4e"
      },
      "execution_count": null,
      "outputs": [
        {
          "output_type": "execute_result",
          "data": {
            "text/plain": [
              "8.802249999999999"
            ]
          },
          "metadata": {},
          "execution_count": 15
        }
      ]
    },
    {
      "cell_type": "code",
      "source": [],
      "metadata": {
        "id": "LTmlCMGnkhtq"
      },
      "execution_count": null,
      "outputs": []
    },
    {
      "cell_type": "code",
      "metadata": {
        "id": "SJQHEWfSOglW",
        "colab": {
          "base_uri": "https://localhost:8080/"
        },
        "outputId": "37833f90-c610-4c0d-f03d-07039242bc77"
      },
      "source": [
        "len(lista_api)"
      ],
      "execution_count": null,
      "outputs": [
        {
          "output_type": "execute_result",
          "data": {
            "text/plain": [
              "62"
            ]
          },
          "metadata": {},
          "execution_count": 16
        }
      ]
    },
    {
      "cell_type": "code",
      "metadata": {
        "id": "oiTCEDJ8OghH",
        "colab": {
          "base_uri": "https://localhost:8080/"
        },
        "outputId": "0b4287a2-3a38-404c-de60-a9e7577a2aa6"
      },
      "source": [
        "lista_api[9]"
      ],
      "execution_count": null,
      "outputs": [
        {
          "output_type": "execute_result",
          "data": {
            "text/plain": [
              "{'id': 178835,\n",
              " 'uri': 'https://dadosabertos.camara.leg.br/api/v2/deputados/178835',\n",
              " 'nomeCivil': 'AFONSO ANTUNES DA MOTTA',\n",
              " 'ultimoStatus': {'id': 178835,\n",
              "  'uri': 'https://dadosabertos.camara.leg.br/api/v2/deputados/178835',\n",
              "  'nome': 'Afonso Motta',\n",
              "  'siglaPartido': 'PDT',\n",
              "  'uriPartido': 'https://dadosabertos.camara.leg.br/api/v2/partidos/36786',\n",
              "  'siglaUf': 'RS',\n",
              "  'idLegislatura': 57,\n",
              "  'urlFoto': 'https://www.camara.leg.br/internet/deputado/bandep/178835.jpg',\n",
              "  'email': 'dep.afonsomotta@camara.leg.br',\n",
              "  'data': '2023-02-01T12:05',\n",
              "  'nomeEleitoral': 'Afonso Motta',\n",
              "  'gabinete': {'nome': '528',\n",
              "   'predio': '4',\n",
              "   'sala': '528',\n",
              "   'andar': '5',\n",
              "   'telefone': '3215-5528',\n",
              "   'email': 'dep.afonsomotta@camara.leg.br'},\n",
              "  'situacao': 'Exercício',\n",
              "  'condicaoEleitoral': 'Titular',\n",
              "  'descricaoStatus': None},\n",
              " 'cpf': '10777296004',\n",
              " 'sexo': 'M',\n",
              " 'urlWebsite': None,\n",
              " 'redeSocial': [],\n",
              " 'dataNascimento': '1950-01-08',\n",
              " 'dataFalecimento': None,\n",
              " 'ufNascimento': 'RS',\n",
              " 'municipioNascimento': 'Porto Alegre',\n",
              " 'escolaridade': 'Superior'}"
            ]
          },
          "metadata": {},
          "execution_count": 17
        }
      ]
    },
    {
      "cell_type": "markdown",
      "metadata": {
        "id": "kicR1eokOs6k"
      },
      "source": [
        "# Processamento paralelo dos id da Função detalha_deputado"
      ]
    },
    {
      "cell_type": "code",
      "metadata": {
        "colab": {
          "base_uri": "https://localhost:8080/"
        },
        "id": "kRa7AMxCOgde",
        "outputId": "ca3bd8c0-7747-47b6-ed6b-d9dc1481ffbc"
      },
      "source": [
        "# Subprocessos para requisição em paralelo na API\n",
        "inicio_processo = time()\n",
        "\n",
        "subprocessos = []\n",
        "pool = ThreadPool(processes=64)\n",
        "\n",
        "for i in tqdm(ids):\n",
        "    #resultado_paralelo = pool.apply_async(detalhe_deputado, (i, ))\n",
        "    resultado_paralelo = pool.apply_async(detalhe_deputado, (i, ))\n",
        "    subprocessos.append(resultado_paralelo)\n",
        "lista_api_paralela = [result.get(timeout=120) for result in tqdm(subprocessos)]\n",
        "\n",
        "fim_processo = time()\n",
        "processamento_paralelo = fim_processo - inicio_processo\n",
        "print('Processamento paralelo dos id:', round( (processamento_paralelo), 2 )/len(ids), 'segundos / id')"
      ],
      "execution_count": null,
      "outputs": [
        {
          "output_type": "stream",
          "name": "stderr",
          "text": [
            "100%|██████████| 512/512 [00:00<00:00, 112728.80it/s]\n",
            "100%|██████████| 512/512 [00:36<00:00, 13.99it/s]"
          ]
        },
        {
          "output_type": "stream",
          "name": "stdout",
          "text": [
            "Processamento paralelo dos id: 0.07158203125 segundos / id\n"
          ]
        },
        {
          "output_type": "stream",
          "name": "stderr",
          "text": [
            "\n"
          ]
        }
      ]
    },
    {
      "cell_type": "code",
      "metadata": {
        "id": "U7e_bcvVOgSw",
        "colab": {
          "base_uri": "https://localhost:8080/"
        },
        "outputId": "a0214800-52a9-4ed5-a9b3-eecc26d8868a"
      },
      "source": [
        "len(lista_api_paralela)"
      ],
      "execution_count": null,
      "outputs": [
        {
          "output_type": "execute_result",
          "data": {
            "text/plain": [
              "512"
            ]
          },
          "metadata": {},
          "execution_count": 19
        }
      ]
    },
    {
      "cell_type": "code",
      "source": [
        ".82-.14"
      ],
      "metadata": {
        "id": "bWkF84OQ1X4Q",
        "colab": {
          "base_uri": "https://localhost:8080/"
        },
        "outputId": "8e142dd3-7cce-445a-9df6-376a5f3f0638"
      },
      "execution_count": null,
      "outputs": [
        {
          "output_type": "execute_result",
          "data": {
            "text/plain": [
              "0.6799999999999999"
            ]
          },
          "metadata": {},
          "execution_count": 20
        }
      ]
    },
    {
      "cell_type": "code",
      "metadata": {
        "id": "6O1UsFq_RVKR",
        "colab": {
          "base_uri": "https://localhost:8080/"
        },
        "outputId": "fbd32bc8-540a-44fb-8d4b-062c5ebb8761"
      },
      "source": [
        "lista_api_paralela[0]"
      ],
      "execution_count": null,
      "outputs": [
        {
          "output_type": "execute_result",
          "data": {
            "text/plain": [
              "{'id': 220593,\n",
              " 'uri': 'https://dadosabertos.camara.leg.br/api/v2/deputados/220593',\n",
              " 'nomeCivil': 'ABILIO JACQUES BRUNINI MOUMER',\n",
              " 'ultimoStatus': {'id': 220593,\n",
              "  'uri': 'https://dadosabertos.camara.leg.br/api/v2/deputados/220593',\n",
              "  'nome': 'Abilio Brunini',\n",
              "  'siglaPartido': 'PL',\n",
              "  'uriPartido': 'https://dadosabertos.camara.leg.br/api/v2/partidos/37906',\n",
              "  'siglaUf': 'MT',\n",
              "  'idLegislatura': 57,\n",
              "  'urlFoto': 'https://www.camara.leg.br/internet/deputado/bandep/220593.jpg',\n",
              "  'email': 'dep.abiliobrunini@camara.leg.br',\n",
              "  'data': '2023-02-01T12:05',\n",
              "  'nomeEleitoral': 'Abilio Brunini',\n",
              "  'gabinete': {'nome': '648',\n",
              "   'predio': '4',\n",
              "   'sala': '648',\n",
              "   'andar': '6',\n",
              "   'telefone': '3215-5648',\n",
              "   'email': 'dep.abiliobrunini@camara.leg.br'},\n",
              "  'situacao': 'Exercício',\n",
              "  'condicaoEleitoral': 'Titular',\n",
              "  'descricaoStatus': None},\n",
              " 'cpf': '99770962104',\n",
              " 'sexo': 'M',\n",
              " 'urlWebsite': None,\n",
              " 'redeSocial': [],\n",
              " 'dataNascimento': '1984-01-31',\n",
              " 'dataFalecimento': None,\n",
              " 'ufNascimento': 'MT',\n",
              " 'municipioNascimento': 'Cuiabá',\n",
              " 'escolaridade': 'Superior'}"
            ]
          },
          "metadata": {},
          "execution_count": 21
        }
      ]
    },
    {
      "cell_type": "markdown",
      "metadata": {
        "id": "YqtV3HNH7p9V"
      },
      "source": [
        "# Estruturando dados com Pandas"
      ]
    },
    {
      "cell_type": "code",
      "metadata": {
        "id": "VaJpwCHV7uSO"
      },
      "source": [
        "df = pd.DataFrame(lista_api_paralela)"
      ],
      "execution_count": null,
      "outputs": []
    },
    {
      "cell_type": "code",
      "metadata": {
        "id": "RY4hUu0k7zl7",
        "colab": {
          "base_uri": "https://localhost:8080/",
          "height": 452
        },
        "outputId": "87cc7d68-56cc-43ed-d7be-48eef2cd6701"
      },
      "source": [
        "df.head()"
      ],
      "execution_count": null,
      "outputs": [
        {
          "output_type": "execute_result",
          "data": {
            "text/plain": [
              "       id                                                uri  \\\n",
              "0  220593  https://dadosabertos.camara.leg.br/api/v2/depu...   \n",
              "1  204379  https://dadosabertos.camara.leg.br/api/v2/depu...   \n",
              "2  220714  https://dadosabertos.camara.leg.br/api/v2/depu...   \n",
              "3  221328  https://dadosabertos.camara.leg.br/api/v2/depu...   \n",
              "4  204560  https://dadosabertos.camara.leg.br/api/v2/depu...   \n",
              "\n",
              "                        nomeCivil  \\\n",
              "0   ABILIO JACQUES BRUNINI MOUMER   \n",
              "1    ACÁCIO DA SILVA FAVACHO NETO   \n",
              "2  ADAIL JOSÉ FIGUEIREDO PINHEIRO   \n",
              "3        ADILSON BARROSO OLIVEIRA   \n",
              "4     ADOLFO VIANA DE CASTRO NETO   \n",
              "\n",
              "                                        ultimoStatus          cpf sexo  \\\n",
              "0  {'id': 220593, 'uri': 'https://dadosabertos.ca...  99770962104    M   \n",
              "1  {'id': 204379, 'uri': 'https://dadosabertos.ca...  74287028287    M   \n",
              "2  {'id': 220714, 'uri': 'https://dadosabertos.ca...  77267796249    M   \n",
              "3  {'id': 221328, 'uri': 'https://dadosabertos.ca...  05585378805    M   \n",
              "4  {'id': 204560, 'uri': 'https://dadosabertos.ca...  80123848504    M   \n",
              "\n",
              "  urlWebsite                                         redeSocial  \\\n",
              "0       None                                                 []   \n",
              "1       None  [https://twitter.com/acaciofavacho, https://ww...   \n",
              "2       None  [https://twitter.com/adailfilhoam?s=21&t=O_eoT...   \n",
              "3       None                                                 []   \n",
              "4       None                                                 []   \n",
              "\n",
              "  dataNascimento dataFalecimento ufNascimento municipioNascimento  \\\n",
              "0     1984-01-31            None           MT              Cuiabá   \n",
              "1     1983-09-28            None           AP              Macapá   \n",
              "2     1992-02-16            None           AM              Manaus   \n",
              "3     1964-06-14            None           MG         Minas Novas   \n",
              "4     1981-02-02            None           BA            Salvador   \n",
              "\n",
              "          escolaridade  \n",
              "0             Superior  \n",
              "1             Superior  \n",
              "2  Superior Incompleto  \n",
              "3             Superior  \n",
              "4             Superior  "
            ],
            "text/html": [
              "\n",
              "  <div id=\"df-c26cfcef-ff8d-4dd0-96a0-a2bf58f8e5d3\" class=\"colab-df-container\">\n",
              "    <div>\n",
              "<style scoped>\n",
              "    .dataframe tbody tr th:only-of-type {\n",
              "        vertical-align: middle;\n",
              "    }\n",
              "\n",
              "    .dataframe tbody tr th {\n",
              "        vertical-align: top;\n",
              "    }\n",
              "\n",
              "    .dataframe thead th {\n",
              "        text-align: right;\n",
              "    }\n",
              "</style>\n",
              "<table border=\"1\" class=\"dataframe\">\n",
              "  <thead>\n",
              "    <tr style=\"text-align: right;\">\n",
              "      <th></th>\n",
              "      <th>id</th>\n",
              "      <th>uri</th>\n",
              "      <th>nomeCivil</th>\n",
              "      <th>ultimoStatus</th>\n",
              "      <th>cpf</th>\n",
              "      <th>sexo</th>\n",
              "      <th>urlWebsite</th>\n",
              "      <th>redeSocial</th>\n",
              "      <th>dataNascimento</th>\n",
              "      <th>dataFalecimento</th>\n",
              "      <th>ufNascimento</th>\n",
              "      <th>municipioNascimento</th>\n",
              "      <th>escolaridade</th>\n",
              "    </tr>\n",
              "  </thead>\n",
              "  <tbody>\n",
              "    <tr>\n",
              "      <th>0</th>\n",
              "      <td>220593</td>\n",
              "      <td>https://dadosabertos.camara.leg.br/api/v2/depu...</td>\n",
              "      <td>ABILIO JACQUES BRUNINI MOUMER</td>\n",
              "      <td>{'id': 220593, 'uri': 'https://dadosabertos.ca...</td>\n",
              "      <td>99770962104</td>\n",
              "      <td>M</td>\n",
              "      <td>None</td>\n",
              "      <td>[]</td>\n",
              "      <td>1984-01-31</td>\n",
              "      <td>None</td>\n",
              "      <td>MT</td>\n",
              "      <td>Cuiabá</td>\n",
              "      <td>Superior</td>\n",
              "    </tr>\n",
              "    <tr>\n",
              "      <th>1</th>\n",
              "      <td>204379</td>\n",
              "      <td>https://dadosabertos.camara.leg.br/api/v2/depu...</td>\n",
              "      <td>ACÁCIO DA SILVA FAVACHO NETO</td>\n",
              "      <td>{'id': 204379, 'uri': 'https://dadosabertos.ca...</td>\n",
              "      <td>74287028287</td>\n",
              "      <td>M</td>\n",
              "      <td>None</td>\n",
              "      <td>[https://twitter.com/acaciofavacho, https://ww...</td>\n",
              "      <td>1983-09-28</td>\n",
              "      <td>None</td>\n",
              "      <td>AP</td>\n",
              "      <td>Macapá</td>\n",
              "      <td>Superior</td>\n",
              "    </tr>\n",
              "    <tr>\n",
              "      <th>2</th>\n",
              "      <td>220714</td>\n",
              "      <td>https://dadosabertos.camara.leg.br/api/v2/depu...</td>\n",
              "      <td>ADAIL JOSÉ FIGUEIREDO PINHEIRO</td>\n",
              "      <td>{'id': 220714, 'uri': 'https://dadosabertos.ca...</td>\n",
              "      <td>77267796249</td>\n",
              "      <td>M</td>\n",
              "      <td>None</td>\n",
              "      <td>[https://twitter.com/adailfilhoam?s=21&amp;t=O_eoT...</td>\n",
              "      <td>1992-02-16</td>\n",
              "      <td>None</td>\n",
              "      <td>AM</td>\n",
              "      <td>Manaus</td>\n",
              "      <td>Superior Incompleto</td>\n",
              "    </tr>\n",
              "    <tr>\n",
              "      <th>3</th>\n",
              "      <td>221328</td>\n",
              "      <td>https://dadosabertos.camara.leg.br/api/v2/depu...</td>\n",
              "      <td>ADILSON BARROSO OLIVEIRA</td>\n",
              "      <td>{'id': 221328, 'uri': 'https://dadosabertos.ca...</td>\n",
              "      <td>05585378805</td>\n",
              "      <td>M</td>\n",
              "      <td>None</td>\n",
              "      <td>[]</td>\n",
              "      <td>1964-06-14</td>\n",
              "      <td>None</td>\n",
              "      <td>MG</td>\n",
              "      <td>Minas Novas</td>\n",
              "      <td>Superior</td>\n",
              "    </tr>\n",
              "    <tr>\n",
              "      <th>4</th>\n",
              "      <td>204560</td>\n",
              "      <td>https://dadosabertos.camara.leg.br/api/v2/depu...</td>\n",
              "      <td>ADOLFO VIANA DE CASTRO NETO</td>\n",
              "      <td>{'id': 204560, 'uri': 'https://dadosabertos.ca...</td>\n",
              "      <td>80123848504</td>\n",
              "      <td>M</td>\n",
              "      <td>None</td>\n",
              "      <td>[]</td>\n",
              "      <td>1981-02-02</td>\n",
              "      <td>None</td>\n",
              "      <td>BA</td>\n",
              "      <td>Salvador</td>\n",
              "      <td>Superior</td>\n",
              "    </tr>\n",
              "  </tbody>\n",
              "</table>\n",
              "</div>\n",
              "    <div class=\"colab-df-buttons\">\n",
              "\n",
              "  <div class=\"colab-df-container\">\n",
              "    <button class=\"colab-df-convert\" onclick=\"convertToInteractive('df-c26cfcef-ff8d-4dd0-96a0-a2bf58f8e5d3')\"\n",
              "            title=\"Convert this dataframe to an interactive table.\"\n",
              "            style=\"display:none;\">\n",
              "\n",
              "  <svg xmlns=\"http://www.w3.org/2000/svg\" height=\"24px\" viewBox=\"0 -960 960 960\">\n",
              "    <path d=\"M120-120v-720h720v720H120Zm60-500h600v-160H180v160Zm220 220h160v-160H400v160Zm0 220h160v-160H400v160ZM180-400h160v-160H180v160Zm440 0h160v-160H620v160ZM180-180h160v-160H180v160Zm440 0h160v-160H620v160Z\"/>\n",
              "  </svg>\n",
              "    </button>\n",
              "\n",
              "  <style>\n",
              "    .colab-df-container {\n",
              "      display:flex;\n",
              "      gap: 12px;\n",
              "    }\n",
              "\n",
              "    .colab-df-convert {\n",
              "      background-color: #E8F0FE;\n",
              "      border: none;\n",
              "      border-radius: 50%;\n",
              "      cursor: pointer;\n",
              "      display: none;\n",
              "      fill: #1967D2;\n",
              "      height: 32px;\n",
              "      padding: 0 0 0 0;\n",
              "      width: 32px;\n",
              "    }\n",
              "\n",
              "    .colab-df-convert:hover {\n",
              "      background-color: #E2EBFA;\n",
              "      box-shadow: 0px 1px 2px rgba(60, 64, 67, 0.3), 0px 1px 3px 1px rgba(60, 64, 67, 0.15);\n",
              "      fill: #174EA6;\n",
              "    }\n",
              "\n",
              "    .colab-df-buttons div {\n",
              "      margin-bottom: 4px;\n",
              "    }\n",
              "\n",
              "    [theme=dark] .colab-df-convert {\n",
              "      background-color: #3B4455;\n",
              "      fill: #D2E3FC;\n",
              "    }\n",
              "\n",
              "    [theme=dark] .colab-df-convert:hover {\n",
              "      background-color: #434B5C;\n",
              "      box-shadow: 0px 1px 3px 1px rgba(0, 0, 0, 0.15);\n",
              "      filter: drop-shadow(0px 1px 2px rgba(0, 0, 0, 0.3));\n",
              "      fill: #FFFFFF;\n",
              "    }\n",
              "  </style>\n",
              "\n",
              "    <script>\n",
              "      const buttonEl =\n",
              "        document.querySelector('#df-c26cfcef-ff8d-4dd0-96a0-a2bf58f8e5d3 button.colab-df-convert');\n",
              "      buttonEl.style.display =\n",
              "        google.colab.kernel.accessAllowed ? 'block' : 'none';\n",
              "\n",
              "      async function convertToInteractive(key) {\n",
              "        const element = document.querySelector('#df-c26cfcef-ff8d-4dd0-96a0-a2bf58f8e5d3');\n",
              "        const dataTable =\n",
              "          await google.colab.kernel.invokeFunction('convertToInteractive',\n",
              "                                                    [key], {});\n",
              "        if (!dataTable) return;\n",
              "\n",
              "        const docLinkHtml = 'Like what you see? Visit the ' +\n",
              "          '<a target=\"_blank\" href=https://colab.research.google.com/notebooks/data_table.ipynb>data table notebook</a>'\n",
              "          + ' to learn more about interactive tables.';\n",
              "        element.innerHTML = '';\n",
              "        dataTable['output_type'] = 'display_data';\n",
              "        await google.colab.output.renderOutput(dataTable, element);\n",
              "        const docLink = document.createElement('div');\n",
              "        docLink.innerHTML = docLinkHtml;\n",
              "        element.appendChild(docLink);\n",
              "      }\n",
              "    </script>\n",
              "  </div>\n",
              "\n",
              "\n",
              "<div id=\"df-65bba898-3e0d-4bbc-86c3-f003342c1fc2\">\n",
              "  <button class=\"colab-df-quickchart\" onclick=\"quickchart('df-65bba898-3e0d-4bbc-86c3-f003342c1fc2')\"\n",
              "            title=\"Suggest charts\"\n",
              "            style=\"display:none;\">\n",
              "\n",
              "<svg xmlns=\"http://www.w3.org/2000/svg\" height=\"24px\"viewBox=\"0 0 24 24\"\n",
              "     width=\"24px\">\n",
              "    <g>\n",
              "        <path d=\"M19 3H5c-1.1 0-2 .9-2 2v14c0 1.1.9 2 2 2h14c1.1 0 2-.9 2-2V5c0-1.1-.9-2-2-2zM9 17H7v-7h2v7zm4 0h-2V7h2v10zm4 0h-2v-4h2v4z\"/>\n",
              "    </g>\n",
              "</svg>\n",
              "  </button>\n",
              "\n",
              "<style>\n",
              "  .colab-df-quickchart {\n",
              "      --bg-color: #E8F0FE;\n",
              "      --fill-color: #1967D2;\n",
              "      --hover-bg-color: #E2EBFA;\n",
              "      --hover-fill-color: #174EA6;\n",
              "      --disabled-fill-color: #AAA;\n",
              "      --disabled-bg-color: #DDD;\n",
              "  }\n",
              "\n",
              "  [theme=dark] .colab-df-quickchart {\n",
              "      --bg-color: #3B4455;\n",
              "      --fill-color: #D2E3FC;\n",
              "      --hover-bg-color: #434B5C;\n",
              "      --hover-fill-color: #FFFFFF;\n",
              "      --disabled-bg-color: #3B4455;\n",
              "      --disabled-fill-color: #666;\n",
              "  }\n",
              "\n",
              "  .colab-df-quickchart {\n",
              "    background-color: var(--bg-color);\n",
              "    border: none;\n",
              "    border-radius: 50%;\n",
              "    cursor: pointer;\n",
              "    display: none;\n",
              "    fill: var(--fill-color);\n",
              "    height: 32px;\n",
              "    padding: 0;\n",
              "    width: 32px;\n",
              "  }\n",
              "\n",
              "  .colab-df-quickchart:hover {\n",
              "    background-color: var(--hover-bg-color);\n",
              "    box-shadow: 0 1px 2px rgba(60, 64, 67, 0.3), 0 1px 3px 1px rgba(60, 64, 67, 0.15);\n",
              "    fill: var(--button-hover-fill-color);\n",
              "  }\n",
              "\n",
              "  .colab-df-quickchart-complete:disabled,\n",
              "  .colab-df-quickchart-complete:disabled:hover {\n",
              "    background-color: var(--disabled-bg-color);\n",
              "    fill: var(--disabled-fill-color);\n",
              "    box-shadow: none;\n",
              "  }\n",
              "\n",
              "  .colab-df-spinner {\n",
              "    border: 2px solid var(--fill-color);\n",
              "    border-color: transparent;\n",
              "    border-bottom-color: var(--fill-color);\n",
              "    animation:\n",
              "      spin 1s steps(1) infinite;\n",
              "  }\n",
              "\n",
              "  @keyframes spin {\n",
              "    0% {\n",
              "      border-color: transparent;\n",
              "      border-bottom-color: var(--fill-color);\n",
              "      border-left-color: var(--fill-color);\n",
              "    }\n",
              "    20% {\n",
              "      border-color: transparent;\n",
              "      border-left-color: var(--fill-color);\n",
              "      border-top-color: var(--fill-color);\n",
              "    }\n",
              "    30% {\n",
              "      border-color: transparent;\n",
              "      border-left-color: var(--fill-color);\n",
              "      border-top-color: var(--fill-color);\n",
              "      border-right-color: var(--fill-color);\n",
              "    }\n",
              "    40% {\n",
              "      border-color: transparent;\n",
              "      border-right-color: var(--fill-color);\n",
              "      border-top-color: var(--fill-color);\n",
              "    }\n",
              "    60% {\n",
              "      border-color: transparent;\n",
              "      border-right-color: var(--fill-color);\n",
              "    }\n",
              "    80% {\n",
              "      border-color: transparent;\n",
              "      border-right-color: var(--fill-color);\n",
              "      border-bottom-color: var(--fill-color);\n",
              "    }\n",
              "    90% {\n",
              "      border-color: transparent;\n",
              "      border-bottom-color: var(--fill-color);\n",
              "    }\n",
              "  }\n",
              "</style>\n",
              "\n",
              "  <script>\n",
              "    async function quickchart(key) {\n",
              "      const quickchartButtonEl =\n",
              "        document.querySelector('#' + key + ' button');\n",
              "      quickchartButtonEl.disabled = true;  // To prevent multiple clicks.\n",
              "      quickchartButtonEl.classList.add('colab-df-spinner');\n",
              "      try {\n",
              "        const charts = await google.colab.kernel.invokeFunction(\n",
              "            'suggestCharts', [key], {});\n",
              "      } catch (error) {\n",
              "        console.error('Error during call to suggestCharts:', error);\n",
              "      }\n",
              "      quickchartButtonEl.classList.remove('colab-df-spinner');\n",
              "      quickchartButtonEl.classList.add('colab-df-quickchart-complete');\n",
              "    }\n",
              "    (() => {\n",
              "      let quickchartButtonEl =\n",
              "        document.querySelector('#df-65bba898-3e0d-4bbc-86c3-f003342c1fc2 button');\n",
              "      quickchartButtonEl.style.display =\n",
              "        google.colab.kernel.accessAllowed ? 'block' : 'none';\n",
              "    })();\n",
              "  </script>\n",
              "</div>\n",
              "\n",
              "    </div>\n",
              "  </div>\n"
            ],
            "application/vnd.google.colaboratory.intrinsic+json": {
              "type": "dataframe",
              "variable_name": "df",
              "repr_error": "Out of range float values are not JSON compliant: nan"
            }
          },
          "metadata": {},
          "execution_count": 23
        }
      ]
    },
    {
      "cell_type": "code",
      "metadata": {
        "id": "ByP1EnWo8Dt1",
        "colab": {
          "base_uri": "https://localhost:8080/"
        },
        "outputId": "ac3d738c-e862-4b51-a566-880d90d64802"
      },
      "source": [
        "df.info()"
      ],
      "execution_count": null,
      "outputs": [
        {
          "output_type": "stream",
          "name": "stdout",
          "text": [
            "<class 'pandas.core.frame.DataFrame'>\n",
            "RangeIndex: 512 entries, 0 to 511\n",
            "Data columns (total 13 columns):\n",
            " #   Column               Non-Null Count  Dtype \n",
            "---  ------               --------------  ----- \n",
            " 0   id                   512 non-null    int64 \n",
            " 1   uri                  512 non-null    object\n",
            " 2   nomeCivil            512 non-null    object\n",
            " 3   ultimoStatus         512 non-null    object\n",
            " 4   cpf                  512 non-null    object\n",
            " 5   sexo                 512 non-null    object\n",
            " 6   urlWebsite           1 non-null      object\n",
            " 7   redeSocial           512 non-null    object\n",
            " 8   dataNascimento       512 non-null    object\n",
            " 9   dataFalecimento      0 non-null      object\n",
            " 10  ufNascimento         512 non-null    object\n",
            " 11  municipioNascimento  512 non-null    object\n",
            " 12  escolaridade         492 non-null    object\n",
            "dtypes: int64(1), object(12)\n",
            "memory usage: 52.1+ KB\n"
          ]
        }
      ]
    },
    {
      "cell_type": "markdown",
      "metadata": {
        "id": "zKBkgsCy-cZi"
      },
      "source": [
        "# Analisando os Dados"
      ]
    },
    {
      "cell_type": "code",
      "metadata": {
        "id": "5-N2mHb38erJ",
        "colab": {
          "base_uri": "https://localhost:8080/",
          "height": 245
        },
        "outputId": "33c42cef-1998-46e9-9321-8ed86b62e8c7"
      },
      "source": [
        "print(round( processamento_individual, 1 ), 'segundos foi o tempo de processamento de 01 requisição na API')\n",
        "print(round( processamento_sequencial, 1 ), 'segundos foi o tempo de processamento de 100 requisições sequenciais na API')\n",
        "print(round( processamento_paralelo, 1 ), 'segundos foi o tempo de processamento de 100 requisições paralelas na API')"
      ],
      "execution_count": null,
      "outputs": [
        {
          "output_type": "stream",
          "name": "stdout",
          "text": [
            "0.6 segundos foi o tempo de processamento de 01 requisição na API\n"
          ]
        },
        {
          "output_type": "error",
          "ename": "NameError",
          "evalue": "name 'processamento_sequencial' is not defined",
          "traceback": [
            "\u001b[0;31m---------------------------------------------------------------------------\u001b[0m",
            "\u001b[0;31mNameError\u001b[0m                                 Traceback (most recent call last)",
            "\u001b[0;32m<ipython-input-28-524fc920b246>\u001b[0m in \u001b[0;36m<cell line: 2>\u001b[0;34m()\u001b[0m\n\u001b[1;32m      1\u001b[0m \u001b[0mprint\u001b[0m\u001b[0;34m(\u001b[0m\u001b[0mround\u001b[0m\u001b[0;34m(\u001b[0m \u001b[0mprocessamento_individual\u001b[0m\u001b[0;34m,\u001b[0m \u001b[0;36m1\u001b[0m \u001b[0;34m)\u001b[0m\u001b[0;34m,\u001b[0m \u001b[0;34m'segundos foi o tempo de processamento de 01 requisição na API'\u001b[0m\u001b[0;34m)\u001b[0m\u001b[0;34m\u001b[0m\u001b[0;34m\u001b[0m\u001b[0m\n\u001b[0;32m----> 2\u001b[0;31m \u001b[0mprint\u001b[0m\u001b[0;34m(\u001b[0m\u001b[0mround\u001b[0m\u001b[0;34m(\u001b[0m \u001b[0mprocessamento_sequencial\u001b[0m\u001b[0;34m,\u001b[0m \u001b[0;36m1\u001b[0m \u001b[0;34m)\u001b[0m\u001b[0;34m,\u001b[0m \u001b[0;34m'segundos foi o tempo de processamento de 100 requisições sequenciais na API'\u001b[0m\u001b[0;34m)\u001b[0m\u001b[0;34m\u001b[0m\u001b[0;34m\u001b[0m\u001b[0m\n\u001b[0m\u001b[1;32m      3\u001b[0m \u001b[0mprint\u001b[0m\u001b[0;34m(\u001b[0m\u001b[0mround\u001b[0m\u001b[0;34m(\u001b[0m \u001b[0mprocessamento_paralelo\u001b[0m\u001b[0;34m,\u001b[0m \u001b[0;36m1\u001b[0m \u001b[0;34m)\u001b[0m\u001b[0;34m,\u001b[0m \u001b[0;34m'segundos foi o tempo de processamento de 100 requisições paralelas na API'\u001b[0m\u001b[0;34m)\u001b[0m\u001b[0;34m\u001b[0m\u001b[0;34m\u001b[0m\u001b[0m\n",
            "\u001b[0;31mNameError\u001b[0m: name 'processamento_sequencial' is not defined"
          ]
        }
      ]
    },
    {
      "cell_type": "code",
      "metadata": {
        "id": "9nBXbmuyfIvv",
        "colab": {
          "base_uri": "https://localhost:8080/",
          "height": 176
        },
        "outputId": "2c444ec4-02ce-4cb2-d7eb-da28fa2077e4"
      },
      "source": [
        "print ('O processamento paralelo utilizou apenas {0:.0%}'.format(processamento_paralelo/processamento_sequencial),\n",
        "       'do tempo do processamento sequencial!')"
      ],
      "execution_count": null,
      "outputs": [
        {
          "output_type": "error",
          "ename": "NameError",
          "evalue": "name 'processamento_sequencial' is not defined",
          "traceback": [
            "\u001b[0;31m---------------------------------------------------------------------------\u001b[0m",
            "\u001b[0;31mNameError\u001b[0m                                 Traceback (most recent call last)",
            "\u001b[0;32m<ipython-input-24-1d322e0415fe>\u001b[0m in \u001b[0;36m<cell line: 1>\u001b[0;34m()\u001b[0m\n\u001b[0;32m----> 1\u001b[0;31m print ('O processamento paralelo utilizou apenas {0:.0%}'.format(processamento_paralelo/processamento_sequencial),\n\u001b[0m\u001b[1;32m      2\u001b[0m        'do tempo do processamento sequencial!')\n",
            "\u001b[0;31mNameError\u001b[0m: name 'processamento_sequencial' is not defined"
          ]
        }
      ]
    },
    {
      "cell_type": "code",
      "metadata": {
        "id": "9ED80ewH8p1z",
        "colab": {
          "base_uri": "https://localhost:8080/",
          "height": 211
        },
        "outputId": "e96d78ff-94d4-4355-b12d-6ac314067bdc"
      },
      "source": [
        "# Análise comparando processamento sequencial x paralelo\n",
        "x = [processamento_sequencial,processamento_paralelo]\n",
        "y = ['processamento_sequencial','processamento_paralelo']\n",
        "plt.figure(figsize = (7, 5))\n",
        "sns.barplot(x=x, y=y, palette=\"deep\")\n",
        "plt.xlabel('Segundos')\n",
        "plt.plot()"
      ],
      "execution_count": null,
      "outputs": [
        {
          "output_type": "error",
          "ename": "NameError",
          "evalue": "name 'processamento_sequencial' is not defined",
          "traceback": [
            "\u001b[0;31m---------------------------------------------------------------------------\u001b[0m",
            "\u001b[0;31mNameError\u001b[0m                                 Traceback (most recent call last)",
            "\u001b[0;32m<ipython-input-25-5d349f9829d5>\u001b[0m in \u001b[0;36m<cell line: 2>\u001b[0;34m()\u001b[0m\n\u001b[1;32m      1\u001b[0m \u001b[0;31m# Análise comparando processamento sequencial x paralelo\u001b[0m\u001b[0;34m\u001b[0m\u001b[0;34m\u001b[0m\u001b[0m\n\u001b[0;32m----> 2\u001b[0;31m \u001b[0mx\u001b[0m \u001b[0;34m=\u001b[0m \u001b[0;34m[\u001b[0m\u001b[0mprocessamento_sequencial\u001b[0m\u001b[0;34m,\u001b[0m\u001b[0mprocessamento_paralelo\u001b[0m\u001b[0;34m]\u001b[0m\u001b[0;34m\u001b[0m\u001b[0;34m\u001b[0m\u001b[0m\n\u001b[0m\u001b[1;32m      3\u001b[0m \u001b[0my\u001b[0m \u001b[0;34m=\u001b[0m \u001b[0;34m[\u001b[0m\u001b[0;34m'processamento_sequencial'\u001b[0m\u001b[0;34m,\u001b[0m\u001b[0;34m'processamento_paralelo'\u001b[0m\u001b[0;34m]\u001b[0m\u001b[0;34m\u001b[0m\u001b[0;34m\u001b[0m\u001b[0m\n\u001b[1;32m      4\u001b[0m \u001b[0mplt\u001b[0m\u001b[0;34m.\u001b[0m\u001b[0mfigure\u001b[0m\u001b[0;34m(\u001b[0m\u001b[0mfigsize\u001b[0m \u001b[0;34m=\u001b[0m \u001b[0;34m(\u001b[0m\u001b[0;36m7\u001b[0m\u001b[0;34m,\u001b[0m \u001b[0;36m5\u001b[0m\u001b[0;34m)\u001b[0m\u001b[0;34m)\u001b[0m\u001b[0;34m\u001b[0m\u001b[0;34m\u001b[0m\u001b[0m\n\u001b[1;32m      5\u001b[0m \u001b[0msns\u001b[0m\u001b[0;34m.\u001b[0m\u001b[0mbarplot\u001b[0m\u001b[0;34m(\u001b[0m\u001b[0mx\u001b[0m\u001b[0;34m=\u001b[0m\u001b[0mx\u001b[0m\u001b[0;34m,\u001b[0m \u001b[0my\u001b[0m\u001b[0;34m=\u001b[0m\u001b[0my\u001b[0m\u001b[0;34m,\u001b[0m \u001b[0mpalette\u001b[0m\u001b[0;34m=\u001b[0m\u001b[0;34m\"deep\"\u001b[0m\u001b[0;34m)\u001b[0m\u001b[0;34m\u001b[0m\u001b[0;34m\u001b[0m\u001b[0m\n",
            "\u001b[0;31mNameError\u001b[0m: name 'processamento_sequencial' is not defined"
          ]
        }
      ]
    }
  ]
}